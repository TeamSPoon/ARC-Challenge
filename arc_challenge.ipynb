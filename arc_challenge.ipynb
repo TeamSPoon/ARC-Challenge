{
 "cells": [
  {
   "cell_type": "markdown",
   "metadata": {},
   "source": [
    "## Can GPT4 Solve the ARC Challenge?\n",
    "This notebook was created by John Tan Chong Min on 17 Apr 2023.\n",
    "- Seek to use GPT4 via zero-shot prompt engineering to generate an output\n",
    "- Fine-tuning the prompt to let GPT4 ground its answer has proven effective\n",
    "- Works quite well for grids with small sizes\n",
    "- Can be better if we ask GPT4 to generate the python code for its description, and use it to check validity based on input/output pairs.\n",
    "- Can be even better if we have GPT4s with different biases and grounding, and increase diversity of possible generated code"
   ]
  },
  {
   "cell_type": "code",
   "execution_count": 1,
   "metadata": {
    "id": "znKGwLlDe9aQ"
   },
   "outputs": [],
   "source": [
    "import json\n",
    "import matplotlib.pyplot as plt\n",
    "import matplotlib.colors\n",
    "import numpy as np\n",
    "import os\n",
    "import copy\n",
    "\n",
    "def load_json_data(folder):\n",
    "    json_files = [pos_json for pos_json in os.listdir(folder) if pos_json.endswith('.json')]\n",
    "    data = {}\n",
    "    for js in json_files:\n",
    "        with open(os.path.join(folder, js)) as json_file:\n",
    "            data[js] = json.load(json_file)\n",
    "    return data\n",
    "\n",
    "def plot_2d_grid(data):\n",
    "    cvals  = [0, 1, 2, 3, 4, 5, 6, 7, 8, 9]\n",
    "    colors = [\"black\", \"dodgerblue\", \"red\", \"lightgreen\", \"yellow\", \"grey\", \"magenta\", \"orange\", \"lightblue\", \"brown\"]\n",
    "    norm=plt.Normalize(min(cvals),max(cvals))\n",
    "    tuples = list(zip(map(norm,cvals), colors))\n",
    "    cmap = matplotlib.colors.LinearSegmentedColormap.from_list(\"\", tuples)\n",
    "\n",
    "    fig, axs = plt.subplots(1, 3, figsize=(5, len(data['test']) * 3))\n",
    "    print(axs.shape)\n",
    "    axs[0].set_title('Test Input')\n",
    "    axs[0].set_xticks([]); axs[0].set_yticks([])\n",
    "    axs[0].imshow(np.array(data['test'][0]['input']), cmap=cmap, vmin=0, vmax=9)\n",
    "    axs[1].set_title('Test Output')\n",
    "    axs[1].set_xticks([]); axs[1].set_yticks([])\n",
    "    axs[1].imshow(np.array(data['test'][0]['output']), cmap=cmap, vmin=0, vmax=9)\n",
    "    # plot gpt output if present\n",
    "    if data['gpt_output'] is not None:\n",
    "        axs[2].set_title('GPT Output')\n",
    "        axs[2].set_xticks([]); axs[2].set_yticks([])\n",
    "        axs[2].imshow(np.array(data['gpt_output']), cmap=cmap, vmin=0, vmax=9) \n",
    "    else:\n",
    "        axs[2].axis('off')\n",
    "\n",
    "    fig, axs = plt.subplots(len(data['train']), 2, figsize=(5, len(data['train']) * 3))\n",
    "    for i, example in enumerate(data['train']):\n",
    "        axs[i, 0].set_title(f'Training Input {i}')\n",
    "        axs[i, 0].set_xticks([]); axs[i, 0].set_yticks([])\n",
    "        axs[i, 0].imshow(np.array(example['input']), cmap=cmap, vmin=0, vmax=9)\n",
    "        axs[i, 1].set_title(f'Training Output {i}')\n",
    "        axs[i, 1].set_xticks([]); axs[i, 1].set_yticks([])\n",
    "        axs[i, 1].imshow(np.array(example['output']), cmap=cmap, vmin=0, vmax=9)\n",
    "    plt.tight_layout()\n",
    "    plt.show()"
   ]
  },
  {
   "cell_type": "markdown",
   "metadata": {},
   "source": [
    "## Load the JSON files\n",
    "\n",
    "- Download from https://lab42.global/wp-content/uploads/2022/08/ARC-800-tasks.zip"
   ]
  },
  {
   "cell_type": "code",
   "execution_count": 2,
   "metadata": {},
   "outputs": [
    {
     "name": "stdout",
     "output_type": "stream",
     "text": [
      "--2023-04-18 07:38:28--  https://lab42.global/wp-content/uploads/2022/08/ARC-800-tasks.zip\n",
      "Resolving lab42.global (lab42.global)... 217.26.61.45\n",
      "Connecting to lab42.global (lab42.global)|217.26.61.45|:443... connected.\n",
      "HTTP request sent, awaiting response... 200 OK\n",
      "Length: 418121 (408K) [application/zip]\n",
      "Saving to: 'ARC-800-tasks.zip.4'\n",
      "\n",
      "ARC-800-tasks.zip.4 100%[===================>] 408.32K   482KB/s    in 0.8s    \n",
      "\n",
      "2023-04-18 07:38:29 (482 KB/s) - 'ARC-800-tasks.zip.4' saved [418121/418121]\n",
      "\n",
      "Archive:  ARC-800-tasks.zip\n",
      "replace ./ARC-800-tasks/evaluation/00576224.json? [y]es, [n]o, [A]ll, [N]one, [r]ename: ^C\n"
     ]
    }
   ],
   "source": [
    "# !wget https://lab42.global/wp-content/uploads/2022/08/ARC-800-tasks.zip \n",
    "# !unzip ARC-800-tasks.zip -d ./ARC-800-tasks"
   ]
  },
  {
   "cell_type": "code",
   "execution_count": 2,
   "metadata": {},
   "outputs": [],
   "source": [
    "# load the json files\n",
    "\n",
    "# download the data from \n",
    "folder = 'ARC-800-tasks/evaluation'\n",
    "myjson = load_json_data(folder)"
   ]
  },
  {
   "cell_type": "markdown",
   "metadata": {},
   "source": [
    "## Get the JSON for the GPT input"
   ]
  },
  {
   "cell_type": "code",
   "execution_count": 3,
   "metadata": {},
   "outputs": [
    {
     "name": "stdout",
     "output_type": "stream",
     "text": [
      "You are given a series of inputs and output pairs. \n",
      "These are all in the form of a 2D array, representing a 2D grid, with values from 0-9. \n",
      "The values are not representative of any ordinal ranking. \n",
      "Input/output pairs may not reflect all possibilities, you are to infer the simplest possible relation making use of symmetry and invariance as much as possible.\n",
      "\n",
      "The input can be something like:\n",
      "> entire grid being the sandbox to manipulate\n",
      "> using a part of the grid (individual squares or portions of the grid) to depict instructions of how to do the task. Position and symmetry is very important.\n",
      "> using regions of similar value to depict area for answer of the task\n",
      "\n",
      "The output can be something like:\n",
      "> same output size as input after performing action\n",
      "> output one of the fixed predetermined patterns used to classify the input image\n",
      "> using output to show the ordering of objects, such as by size, height, width, position, value\n",
      "\n",
      "Each of the input-output relation can be done with one or more actions chained together, which could be something like (not exhaustive):\n",
      "- object view (defined as continuous squares connected horizontally, vertically and/or diagonally, separated by 0 values)\n",
      "> objects can be the of the same value, or different values combined together\n",
      "> objects may be hidden beneath other objects\n",
      "> rotating or shifting objects\n",
      "> changing value of object\n",
      "> objects can be manipulated and mapped to a different number of output squares\n",
      "> different objects may be manipulated differently based on context\n",
      "\n",
      "- pixel view\n",
      "> rotation / reflection symmetry\n",
      "> continuation of a pattern\n",
      "> changing values\n",
      "\n",
      "- segment view\n",
      "> combine two segments of the input into one single one based on a simple rule\n",
      "> rule can be certain values are prioritized over others, or combination of values into new ones\n",
      "\n",
      "Do the following:\n",
      "- What is the broad description of the input/output relation that holds for all input/output pairs?\n",
      "- What is the step by step description of the input/output relation that holds for all input/output pairs? \n",
      "- Apply this description to the test input and find out the answer 'to_be_filled'.\n",
      "\n",
      "{'train': [{'input': [[0, 0, 0, 0], [0, 3, 4, 0], [0, 7, 6, 0], [0, 0, 0, 0]], 'output': [[3, 0, 0, 4], [0, 0, 0, 0], [0, 0, 0, 0], [7, 0, 0, 6]]}, {'input': [[0, 0, 0, 0], [0, 5, 6, 0], [0, 8, 3, 0], [0, 0, 0, 0]], 'output': [[5, 0, 0, 6], [0, 0, 0, 0], [0, 0, 0, 0], [8, 0, 0, 3]]}], 'test': {'input': [[0, 0, 0, 0], [0, 2, 3, 0], [0, 4, 9, 0], [0, 0, 0, 0]], 'output': 'to_be_filled'}}\n"
     ]
    }
   ],
   "source": [
    "task_name = '66e6c45b'\n",
    "json_task = copy.deepcopy(myjson[task_name +'.json'])\n",
    "\n",
    "preamble = '''You are given a series of inputs and output pairs. \n",
    "These are all in the form of a 2D array, representing a 2D grid, with values from 0-9. \n",
    "The values are not representative of any ordinal ranking. \n",
    "Input/output pairs may not reflect all possibilities, you are to infer the simplest possible relation making use of symmetry and invariance as much as possible.\n",
    "\n",
    "The input can be something like:\n",
    "> entire grid being the sandbox to manipulate\n",
    "> using a part of the grid (individual squares or portions of the grid) to depict instructions of how to do the task. Position and symmetry is very important.\n",
    "> using regions of similar value to depict area for answer of the task\n",
    "\n",
    "The output can be something like:\n",
    "> same output size as input after performing action\n",
    "> output one of the fixed predetermined patterns used to classify the input image\n",
    "> using output to show the ordering of objects, such as by size, height, width, position, value\n",
    "\n",
    "Each of the input-output relation can be done with one or more actions chained together, which could be something like (not exhaustive):\n",
    "- object view (defined as continuous squares connected horizontally, vertically and/or diagonally, separated by 0 values)\n",
    "> objects can be the of the same value, or different values combined together\n",
    "> objects may be hidden beneath other objects\n",
    "> rotating or shifting objects\n",
    "> changing value of object\n",
    "> objects can be manipulated and mapped to a different number of output squares\n",
    "> different objects may be manipulated differently based on context\n",
    "\n",
    "- pixel view\n",
    "> rotation / reflection symmetry\n",
    "> continuation of a pattern\n",
    "> changing values\n",
    "\n",
    "- segment view\n",
    "> combine two segments of the input into one single one based on a simple rule\n",
    "> rule can be certain values are prioritized over others, or combination of values into new ones\n",
    "\n",
    "Do the following:\n",
    "- What is the broad description of the input/output relation that holds for all input/output pairs?\n",
    "- What is the step by step description of the input/output relation that holds for all input/output pairs? \n",
    "- Apply this description to the test input and find out the answer 'to_be_filled'.'''\n",
    "\n",
    "# ensure only one test output\n",
    "json_task['test'] = json_task['test'][0]\n",
    "json_task['test']['output'] = 'to_be_filled'\n",
    "\n",
    "print(preamble + '\\n\\n' + str(json_task))"
   ]
  },
  {
   "cell_type": "markdown",
   "metadata": {},
   "source": [
    "# Dispaly the GPT output"
   ]
  },
  {
   "cell_type": "code",
   "execution_count": 6,
   "metadata": {
    "colab": {
     "base_uri": "https://localhost:8080/",
     "height": 562
    },
    "id": "g-5H1xmPft3L",
    "outputId": "bd0d29c1-7421-4a4a-e87a-fb2dc5fadd9d"
   },
   "outputs": [
    {
     "name": "stdout",
     "output_type": "stream",
     "text": [
      "(3,)\n"
     ]
    },
    {
     "data": {
      "image/png": "[encoded data removed]",
      "text/plain": [
       "<Figure size 500x300 with 3 Axes>"
      ]
     },
     "metadata": {},
     "output_type": "display_data"
    },
    {
     "data": {
      "image/png": "[encoded data removed]",
      "text/plain": [
       "<Figure size 500x600 with 4 Axes>"
      ]
     },
     "metadata": {},
     "output_type": "display_data"
    }
   ],
   "source": [
    "json_task = copy.deepcopy(myjson[task_name +'.json'])\n",
    "\n",
    "# Add GPT output here (if any)\n",
    "json_task['gpt_output'] = [\n",
    "[2, 0, 0, 4],\n",
    "[0, 0, 0, 0],\n",
    "[0, 0, 0, 0],\n",
    "[3, 0, 0, 9]\n",
    "]\n",
    "\n",
    "# json_task['gpt_output'] = None\n",
    "\n",
    "plot_2d_grid(json_task)"
   ]
  },
  {
   "cell_type": "code",
   "execution_count": null,
   "metadata": {
    "id": "h0dDSW_SiWqr"
   },
   "outputs": [],
   "source": []
  }
 ],
 "metadata": {
  "colab": {
   "provenance": []
  },
  "kernelspec": {
   "display_name": "Python 3 (ipykernel)",
   "language": "python",
   "name": "python3"
  },
  "language_info": {
   "codemirror_mode": {
    "name": "ipython",
    "version": 3
   },
   "file_extension": ".py",
   "mimetype": "text/x-python",
   "name": "python",
   "nbconvert_exporter": "python",
   "pygments_lexer": "ipython3",
   "version": "3.9.13"
  }
 },
 "nbformat": 4,
 "nbformat_minor": 4
}
