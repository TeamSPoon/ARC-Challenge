{
 "cells": [
  {
   "cell_type": "markdown",
   "metadata": {},
   "source": [
    "## Can GPT4 Solve the ARC Challenge?\n",
    "This notebook was created by John Tan Chong Min on 17 Apr 2023.\n",
    "- Seek to use GPT4 via zero-shot prompt engineering to generate an output\n",
    "- Fine-tuning the prompt to let GPT4 ground its answer has proven effective\n",
    "- Works quite well for grids with small sizes\n",
    "- Can be better if we ask GPT4 to generate the python code for its description, and use it to check validity based on input/output pairs.\n",
    "- Can be even better if we have GPT4s with different biases and grounding, and increase diversity of possible generated code"
   ]
  },
  {
   "cell_type": "code",
   "execution_count": 85,
   "metadata": {
    "id": "znKGwLlDe9aQ"
   },
   "outputs": [],
   "source": [
    "import json\n",
    "import matplotlib.pyplot as plt\n",
    "import matplotlib.colors\n",
    "import numpy as np\n",
    "import os\n",
    "import copy\n",
    "import traceback\n",
    "from io import StringIO\n",
    "from collections import defaultdict\n",
    "\n",
    "def load_json_data(folder):\n",
    "    json_files = [pos_json for pos_json in os.listdir(folder) if pos_json.endswith('.json')]\n",
    "    data = {}\n",
    "    for js in json_files:\n",
    "        with open(os.path.join(folder, js)) as json_file:\n",
    "            data[js] = json.load(json_file)\n",
    "    return data\n",
    "\n",
    "def plot_2d_grid(data):\n",
    "    \n",
    "    cvals  = [0, 1, 2, 3, 4, 5, 6, 7, 8, 9]\n",
    "    colors = [\"black\", \"dodgerblue\", \"red\", \"lightgreen\", \"yellow\", \"grey\", \"magenta\", \"orange\", \"lightblue\", \"brown\"]\n",
    "    norm=plt.Normalize(min(cvals),max(cvals))\n",
    "    tuples = list(zip(map(norm,cvals), colors))\n",
    "    cmap = matplotlib.colors.LinearSegmentedColormap.from_list(\"\", tuples)\n",
    "\n",
    "    fig, axs = plt.subplots(len(data['test']), 3, figsize=(5, len(data['test']) * 3 * 0.7))\n",
    "    axs = axs.reshape(-1, 3)  # Reshape axs to have 2 dimensions        \n",
    "    \n",
    "    # show grid\n",
    "    for i, example in enumerate(data['test']):\n",
    "        axs[i, 0].set_title(f'Test Input {i+1}')\n",
    "        # display gridlines\n",
    "        rows, cols = np.array(string_to_array(example['input'])).shape\n",
    "        axs[i, 0].set_xticks(np.arange(cols + 1) - 0.5, minor=True)\n",
    "        axs[i, 0].set_yticks(np.arange(rows + 1) - 0.5, minor=True)\n",
    "        axs[i, 0].grid(True, which='minor', color='black', linewidth=0.5)\n",
    "        axs[i, 0].set_xticks([]); axs[i, 0].set_yticks([])\n",
    "        axs[i, 0].imshow(np.array(string_to_array(example['input'])), cmap=cmap, vmin=0, vmax=9)\n",
    "        \n",
    "        axs[i, 1].set_title(f'Test Output {i+1}')\n",
    "        # display gridlines\n",
    "        rows, cols = np.array(string_to_array(example['output'])).shape\n",
    "        axs[i, 1].set_xticks(np.arange(cols + 1) - 0.5, minor=True)\n",
    "        axs[i, 1].set_yticks(np.arange(rows + 1) - 0.5, minor=True)\n",
    "        axs[i, 1].grid(True, which='minor', color='black', linewidth=0.5)\n",
    "        axs[i, 1].set_xticks([]); axs[i, 1].set_yticks([])\n",
    "        axs[i, 1].imshow(np.array(string_to_array(example['output'])), cmap=cmap, vmin=0, vmax=9)\n",
    "        # plot gpt output if present\n",
    "        if 'code_output' in example:\n",
    "            axs[i, 2].set_title(f'GPT Output {i+1}')\n",
    "            # display gridlines\n",
    "            rows, cols = np.array(string_to_array(example['code_output'])).shape\n",
    "            axs[i, 2].set_xticks(np.arange(cols + 1) - 0.5, minor=True)\n",
    "            axs[i, 2].set_yticks(np.arange(rows + 1) - 0.5, minor=True)\n",
    "            axs[i, 2].grid(True, which='minor', color='black', linewidth=0.5)\n",
    "            axs[i, 2].set_xticks([]); axs[i, 2].set_yticks([])\n",
    "            axs[i, 2].imshow(np.array(string_to_array(example['code_output'])), cmap=cmap, vmin=0, vmax=9)\n",
    "        else:\n",
    "            axs[i, 2].axis('off')\n",
    "    plt.tight_layout()\n",
    "    plt.show()\n",
    "\n",
    "    fig, axs = plt.subplots(len(data['train']), 3, figsize=(5, len(data['train']) * 3 * 0.7))\n",
    "    axs = axs.reshape(-1, 3)  # Reshape axs to have 2 dimensions\n",
    "    for i, example in enumerate(data['train']):\n",
    "        axs[i, 0].set_title(f'Training Input {i+1}')\n",
    "        # display gridlines\n",
    "        rows, cols = np.array(string_to_array(example['input'])).shape\n",
    "        axs[i, 0].set_xticks(np.arange(cols + 1) - 0.5, minor=True)\n",
    "        axs[i, 0].set_yticks(np.arange(rows + 1) - 0.5, minor=True)\n",
    "        axs[i, 0].grid(True, which='minor', color='black', linewidth=0.5)\n",
    "        axs[i, 0].set_xticks([]); axs[i, 0].set_yticks([])\n",
    "        axs[i, 0].imshow(np.array(string_to_array(example['input'])), cmap=cmap, vmin=0, vmax=9)\n",
    "        \n",
    "        axs[i, 1].set_title(f'Training Output {i+1}')\n",
    "        # display gridlines\n",
    "        rows, cols = np.array(string_to_array(example['output'])).shape\n",
    "        axs[i, 1].set_xticks(np.arange(cols + 1) - 0.5, minor=True)\n",
    "        axs[i, 1].set_yticks(np.arange(rows + 1) - 0.5, minor=True)\n",
    "        axs[i, 1].grid(True, which='minor', color='black', linewidth=0.5)\n",
    "        axs[i, 1].set_xticks([]); axs[i, 1].set_yticks([])\n",
    "        axs[i, 1].imshow(np.array(string_to_array(example['output'])), cmap=cmap, vmin=0, vmax=9)\n",
    "        if 'code_output' in example:\n",
    "            axs[i, 2].set_title(f'GPT Output {i+1}')\n",
    "            # display gridlines\n",
    "            rows, cols = np.array(string_to_array(example['code_output'])).shape\n",
    "            axs[i, 2].set_xticks(np.arange(cols + 1) - 0.5, minor=True)\n",
    "            axs[i, 2].set_yticks(np.arange(rows + 1) - 0.5, minor=True)\n",
    "            axs[i, 2].grid(True, which='minor', color='black', linewidth=0.5)\n",
    "            axs[i, 2].set_xticks([]); axs[i, 2].set_yticks([])\n",
    "            axs[i, 2].imshow(np.array(string_to_array(example['code_output'])), cmap=cmap, vmin=0, vmax=9)\n",
    "        else:\n",
    "            axs[i, 2].axis('off')\n",
    "    plt.tight_layout()\n",
    "    plt.show()"
   ]
  },
  {
   "cell_type": "markdown",
   "metadata": {},
   "source": [
    "# Utility functions for objects"
   ]
  },
  {
   "cell_type": "code",
   "execution_count": 117,
   "metadata": {},
   "outputs": [],
   "source": [
    "def get_size(grid):\n",
    "    ''' Returns the size of the grid in 2 axis '''\n",
    "    return (len(grid), len(grid[0]))\n",
    "def get_middle(coords):\n",
    "    ''' Returns the middle of the coordinates '''\n",
    "    x_sum, y_sum = 0, 0\n",
    "    for (x,y) in coords:\n",
    "        x_sum += int(x)\n",
    "        y_sum += int(y)\n",
    "    return (int(x_sum/len(coords)+0.5), int(y_sum/len(coords)+0.5))\n",
    "def get_anchor(coords):\n",
    "    ''' Returns the top left, and bottom right anchor of the shape '''\n",
    "    min_x, min_y = 10000, 10000\n",
    "    max_x, max_y = 0, 0\n",
    "    for (x, y) in coords:\n",
    "        min_x = min(x, min_x)\n",
    "        min_y = min(y, min_y)\n",
    "        max_x = max(x, max_x)\n",
    "        max_y = max(y, max_y)\n",
    "    return (min_x, min_y), (max_x, max_y)\n",
    "def get_shape(coords, value='x'):\n",
    "    ''' Gets shape based on the coords '''\n",
    "    (min_x, min_y), (max_x, max_y) = get_anchor(coords)\n",
    "    newgrid = np.array([['.' for _ in range(max_y-min_y+1)] for _ in range(max_x-min_x+1)])\n",
    "    for (x, y) in coords:\n",
    "        newgrid[x-min_x, y-min_y]=value\n",
    "    return [''.join(row) for row in newgrid]\n",
    "\n",
    "def array_to_string(grid):\n",
    "    # if grid is already in string form, just return it\n",
    "    if isinstance(grid[0][0], str): return grid\n",
    "\n",
    "    newgrid = []\n",
    "    mapping = {0:'.',1:'a',2:'b',3:'c',4:'d',5:'e',6:'f',7:'g',8:'h',9:'i',10:'j'}\n",
    "    for i in range(len(grid)):\n",
    "        curstring = ''\n",
    "        for j in range(len(grid[0])):\n",
    "            curstring += mapping[grid[i][j]]\n",
    "        newgrid.append(curstring)\n",
    "    return newgrid\n",
    "\n",
    "def string_to_array(grid):\n",
    "    # if grid is already in integer form, just return it\n",
    "    if isinstance(grid[0][0], int): return grid\n",
    "\n",
    "    mapping = {0:'.',1:'a',2:'b',3:'c',4:'d',5:'e',6:'f',7:'g',8:'h',9:'i',10:'j'}\n",
    "    revmap = {v:k for k,v in mapping.items()}\n",
    "    newgrid = [[revmap[grid[i][j]] for j in range(len(grid[0]))] for i in range(len(grid))]\n",
    "    return newgrid"
   ]
  },
  {
   "cell_type": "markdown",
   "metadata": {},
   "source": [
    "## Helper Function\n",
    "- Function to help GPT execute tasks"
   ]
  },
  {
   "cell_type": "code",
   "execution_count": 118,
   "metadata": {},
   "outputs": [],
   "source": [
    "def get_objects(grid, diag = False, empty = False):\n",
    "    rows = len(grid)\n",
    "    cols = len(grid[0])\n",
    "    visited = set()\n",
    "    objects = []\n",
    "\n",
    "    def is_valid(row, col, value):\n",
    "        return 0 <= row < rows and 0 <= col < cols and (row, col) not in visited and grid[row][col] == value\n",
    "\n",
    "    def dfs(row, col, value):\n",
    "        if is_valid(row, col, value):\n",
    "            visited.add((row, col))\n",
    "            object_coords.add((row, col))\n",
    "            dfs(row - 1, col, value)  # up\n",
    "            dfs(row + 1, col, value)  # down\n",
    "            dfs(row, col - 1, value)  # left\n",
    "            dfs(row, col + 1, value)  # right\n",
    "            if diag:\n",
    "                dfs(row - 1, col - 1, value)  # top-left diagonal\n",
    "                dfs(row - 1, col + 1, value)  # top-right diagonal\n",
    "                dfs(row + 1, col - 1, value)  # bottom-left diagonal\n",
    "                dfs(row + 1, col + 1, value)  # bottom-right diagonal\n",
    "\n",
    "    for row in range(rows):\n",
    "        for col in range(cols):\n",
    "            value = grid[row][col]\n",
    "            if (row, col) not in visited:\n",
    "                if (value == '.' or value == 0) and not empty: continue\n",
    "                object_coords = set()\n",
    "                dfs(row, col, value)\n",
    "                (min_x, min_y), (max_x, max_y) = get_anchor(object_coords)\n",
    "                objects.append({'tl':(min_x, min_y),'br':(max_x, max_y),\n",
    "                                 'shape':get_shape(object_coords), 'value': value, 'num':len(object_coords)})\n",
    "\n",
    "    return objects"
   ]
  },
  {
   "cell_type": "code",
   "execution_count": 119,
   "metadata": {},
   "outputs": [
    {
     "data": {
      "text/plain": [
       "[{'tl': (0, 1), 'br': (1, 3), 'shape': ['xxx', '..x'], 'value': 'a', 'num': 4},\n",
       " {'tl': (1, 2), 'br': (1, 2), 'shape': ['x'], 'value': 'b', 'num': 1}]"
      ]
     },
     "execution_count": 119,
     "metadata": {},
     "output_type": "execute_result"
    }
   ],
   "source": [
    "get_objects(array_to_string([[0, 1, 1, 1], [0, 0, 2, 1]]))"
   ]
  },
  {
   "cell_type": "code",
   "execution_count": 120,
   "metadata": {},
   "outputs": [],
   "source": [
    "def shape_to_coords(shape, top_left): \n",
    "    '''Takes in object shape and top-left anchor, outputs list of coords object occupies'''\n",
    "    row, col = len(shape), len(shape[0])\n",
    "    coords = []\n",
    "    for i in range(row):\n",
    "        for j in range(col):\n",
    "            if shape[i][j]!='.' and shape[i][j]!=0:coords.append((i+top_left[0],j+top_left[1]))\n",
    "    return coords\n",
    "\n",
    "def fill_object(grid, obj_dict): \n",
    "    '''Returns grid filled with the object'''\n",
    "    newgrid = [list(row) for row in grid]\n",
    "    obj_coords = shape_to_coords(obj_dict['shape'], obj_dict['tl'])\n",
    "    for x,y in obj_coords:\n",
    "        if 0<=x<len(grid) and 0<=y<len(grid[0]): newgrid[x][y] = obj_dict['value']\n",
    "    return [''.join(row) for row in newgrid]\n",
    "\n",
    "def empty_grid(row, col):\n",
    "    ''' Returns an empty grid of height row and width col '''\n",
    "    newgrid = [['.' for _ in range(col)] for _ in range(row)]\n",
    "    return [''.join(row) for row in newgrid]"
   ]
  },
  {
   "cell_type": "code",
   "execution_count": 121,
   "metadata": {},
   "outputs": [],
   "source": [
    "def crop_section(grid, tl, br): \n",
    "    ''' returns a subset of the grid from top-left to bottom-right coordinate '''\n",
    "    newgrid = [[grid[i][j] for j in range(tl[1],br[1]+1)] for i in range(tl[0],br[0]+1)]\n",
    "    return [''.join(row) for row in newgrid]\n",
    "\n",
    "def fill_section(grid, tl, br, value): \n",
    "    ''' fills up grid section from top-left to bottom-right coordinate, with value '''\n",
    "    newgrid = [list(row) for row in grid]\n",
    "    for row in range(tl[0], br[0]+1):\n",
    "        for col in range(tl[1], br[1]+1):\n",
    "            newgrid[row][col] = value\n",
    "    return [''.join(row) for row in newgrid]\n",
    "\n",
    "def get_coords(grid, value):\n",
    "    ''' get all coordinates of filled pixels of a certain value in grid '''\n",
    "    coords = []\n",
    "    for row in range(len(grid)):\n",
    "        for col in range(len(grid[0])):\n",
    "            if grid[row][col] == value:\n",
    "                coords.append((row, col))\n",
    "    return coords\n",
    "\n",
    "def fill_line_between_coords(grid, coord1, coord2, value): \n",
    "    '''fills up a line from coord1 to coord2 with value'''\n",
    "    if coord1 == coord2: return grid\n",
    "    newgrid = [list(row) for row in grid]\n",
    "    row_diff = coord1[0]-coord2[0]\n",
    "    col_diff = coord1[1]-coord2[1]\n",
    "    maxdist = max(abs(row_diff), abs(col_diff))\n",
    "    for i in range(maxdist+1):\n",
    "        newgrid[coord1[0]-(i*row_diff)//maxdist][coord1[1]-(i*col_diff)//maxdist] = value\n",
    "    return [''.join(row) for row in newgrid]\n",
    "\n",
    "def get_counts(grid, empty = False):\n",
    "    ''' returns a sorted list of the counts of various values within the grid '''\n",
    "    d = defaultdict(lambda: 0)\n",
    "    for row in grid:\n",
    "        for cell in row:\n",
    "            d[cell] += 1\n",
    "    # delete the empty cells as an entry if empty is False\n",
    "    if not empty and '.' in d:\n",
    "        del d['.']\n",
    "    sorted_list = sorted(d.items(), key=lambda item: item[1], reverse = True)\n",
    "    return sorted_list"
   ]
  },
  {
   "cell_type": "code",
   "execution_count": 193,
   "metadata": {},
   "outputs": [],
   "source": [
    "def rotate_clockwise(grid, degree=90):\n",
    "    ''' Rotates grid clockwise by a degree of 90, 180, 270 degrees. grid can also be the object dictionary'''\n",
    "    # process object dictionary differently\n",
    "    if isinstance(grid, dict):\n",
    "        obj_dict = copy.deepcopy(grid)\n",
    "        newgrid = obj_dict['shape']\n",
    "        for i in range(degree//90):\n",
    "            # Transpose the array\n",
    "            transposed_grid = [[newgrid[j][i] for j in range(len(newgrid))] for i in range(len(newgrid[0]))]\n",
    "\n",
    "            # Reverse each row of the transposed array\n",
    "            newgrid = [row[::-1] for row in transposed_grid]\n",
    "        newgrid = [''.join(row) for row in newgrid]\n",
    "        obj_dict['shape'] = newgrid\n",
    "        start_x, start_y = obj_dict['tl']\n",
    "        obj_dict['br'] = (start_x + len(newgrid)-1, start_y + len(newgrid[0])-1)\n",
    "        return obj_dict\n",
    "    \n",
    "    else:\n",
    "        newgrid = [list(row) for row in grid]\n",
    "        for i in range(degree//90):\n",
    "            # Transpose the array\n",
    "            transposed_grid = [[newgrid[j][i] for j in range(len(newgrid))] for i in range(len(newgrid[0]))]\n",
    "\n",
    "            # Reverse each row of the transposed array\n",
    "            newgrid = [row[::-1] for row in transposed_grid]\n",
    "\n",
    "        return [''.join(row) for row in newgrid]\n",
    "\n",
    "def horizontal_flip(grid):\n",
    "    ''' Does a horizontal flip of the grid. grid can also be the object dictionary'''\n",
    "    # process object dictionary differently\n",
    "    if isinstance(grid, dict):\n",
    "        obj_dict = copy.deepcopy(grid)\n",
    "        obj_dict['shape'] = [row[::-1] for row in obj_dict['shape']]\n",
    "        start_x, start_y = obj_dict['tl']\n",
    "        obj_dict['br'] = (start_x + len(obj_dict['shape'])-1, start_y + len(obj_dict['shape'][0])-1)\n",
    "        return obj_dict\n",
    "        \n",
    "    else:\n",
    "        return [row[::-1] for row in grid]\n",
    "\n",
    "def vertical_flip(grid):\n",
    "    ''' Does a vertical flip of the grid. grid can also be the object dictionary'''\n",
    "    # process object dictionary differently\n",
    "    if isinstance(grid, dict):\n",
    "        obj_dict = copy.deepcopy(grid)\n",
    "        obj_dict['shape'] = [row for row in obj_dict['shape'][::-1]]\n",
    "        start_x, start_y = obj_dict['tl']\n",
    "        obj_dict['br'] = (start_x + len(obj_dict['shape'])-1, start_y + len(obj_dict['shape'][0])-1)\n",
    "        return obj_dict\n",
    "    \n",
    "    else:\n",
    "        return [row for row in grid[::-1]]"
   ]
  },
  {
   "cell_type": "markdown",
   "metadata": {},
   "source": [
    "### Unit Tests"
   ]
  },
  {
   "cell_type": "code",
   "execution_count": 194,
   "metadata": {},
   "outputs": [],
   "source": [
    "assert shape_to_coords(['..a','aaa'], (3,3)) == [(3, 5), (4, 3), (4, 4), (4, 5)]\n",
    "assert fill_object(['....','....'], {'tl': (0, 1),'br': (1, 3),'shape': ['xxx', '..x'],'value': 'a','num': 4}) == ['.aaa', '...a']\n",
    "assert empty_grid(3, 2) == ['..', '..', '..']\n",
    "assert crop_section(['aab','.ab'], (0, 0), (1, 1)) == ['aa', '.a']\n",
    "assert fill_section(['...', '...'], (0, 0), (1, 1), 'a') == ['aa.', 'aa.']\n",
    "assert get_coords(['.a.', '..a'], 'a') == [(0, 1), (1, 2)]\n",
    "assert fill_line_between_coords(['...','...'], (0, 0), (1, 1), 'a') == ['a..', '.a.']\n",
    "assert fill_line_between_coords(['...','...'], (0, 0), (0, 1), 'a') == ['aa.', '...']\n",
    "assert fill_line_between_coords(['...','...'], (0, 0), (1, 0), 'a') == ['a..', 'a..']\n",
    "assert get_counts(['..b','b.a']) == [('b', 2), ('a', 1)]\n",
    "assert rotate_clockwise(['abc','def'], 90) == ['da', 'eb', 'fc']\n",
    "assert rotate_clockwise(['abc','def', 'ghi'], 180) == ['ihg', 'fed', 'cba']\n",
    "assert rotate_clockwise(['abc','def'], 270) == ['cf', 'be', 'ad']\n",
    "assert rotate_clockwise({'tl': (0, 1),'br': (1, 3),'shape': ['xxx', '..x'],'value': 'a','num': 4}, 90) == {'tl': (0, 1),'br': (2, 2),'shape': ['.x', '.x', 'xx'],'value': 'a','num': 4}\n",
    "assert horizontal_flip(['abc','def']) == ['cba', 'fed']\n",
    "assert horizontal_flip({'tl': (0, 1),'br': (1, 3),'shape': ['xxx', '..x'],'value': 'a','num': 4}) == {'tl': (0, 1), 'br': (1, 3), 'shape': ['xxx', 'x..'], 'value': 'a', 'num': 4}\n",
    "assert vertical_flip(['abc','def']) == ['def', 'abc']\n",
    "assert vertical_flip({'tl': (0, 1),'br': (1, 3),'shape': ['xxx', '..x'],'value': 'a','num': 4}) == {'tl': (0, 1), 'br': (1, 3), 'shape': ['..x', 'xxx'], 'value': 'a', 'num': 4}"
   ]
  },
  {
   "cell_type": "markdown",
   "metadata": {},
   "source": [
    "## Conditional Functions\n",
    "- Functions to help with deciding when to use helper functions"
   ]
  },
  {
   "cell_type": "code",
   "execution_count": 195,
   "metadata": {},
   "outputs": [],
   "source": [
    "def on_same_line(coord1, coord2, line_type):\n",
    "    '''Returns True/False if coord1 is on the same line as coord2. line_type can be one of ['row', 'col', 'diag']'''\n",
    "    if line_type == 'row': return coord1[0] == coord2[0]\n",
    "    if line_type == 'col': return coord1[1] == coord2[1]\n",
    "    if line_type == 'diag': return coord1[0]-coord2[0] == coord1[1]-coord2[1]\n",
    "    return False"
   ]
  },
  {
   "cell_type": "markdown",
   "metadata": {},
   "source": [
    "### Unit Tests"
   ]
  },
  {
   "cell_type": "code",
   "execution_count": 196,
   "metadata": {},
   "outputs": [],
   "source": [
    "assert on_same_line((1, 1), (2, 2), 'diag') == True"
   ]
  },
  {
   "cell_type": "markdown",
   "metadata": {},
   "source": [
    "## Load the JSON files\n",
    "\n",
    "- Download from https://lab42.global/wp-content/uploads/2022/08/ARC-800-tasks.zip"
   ]
  },
  {
   "cell_type": "code",
   "execution_count": 197,
   "metadata": {},
   "outputs": [],
   "source": [
    "# !wget https://lab42.global/wp-content/uploads/2022/08/ARC-800-tasks.zip \n",
    "# !unzip ARC-800-tasks.zip -d ./ARC-800-tasks"
   ]
  },
  {
   "cell_type": "code",
   "execution_count": 198,
   "metadata": {},
   "outputs": [],
   "source": [
    "# load the json files\n",
    "\n",
    "# download the data from \n",
    "folder = 'ARC-800-tasks/training'\n",
    "myjson = load_json_data(folder)\n",
    "\n",
    "file_names = list(myjson.keys())"
   ]
  },
  {
   "cell_type": "markdown",
   "metadata": {},
   "source": [
    "## Get the JSON for the GPT input"
   ]
  },
  {
   "cell_type": "code",
   "execution_count": 199,
   "metadata": {},
   "outputs": [
    {
     "data": {
      "image/png": "[encoded data removed]",
      "text/plain": [
       "<Figure size 500x210 with 3 Axes>"
      ]
     },
     "metadata": {},
     "output_type": "display_data"
    },
    {
     "data": {
      "image/png": "[encoded data removed]",
      "text/plain": [
       "<Figure size 500x420 with 6 Axes>"
      ]
     },
     "metadata": {},
     "output_type": "display_data"
    }
   ],
   "source": [
    "index = 59\n",
    "task_name = file_names[index]\n",
    "json_task = copy.deepcopy(myjson[task_name])\n",
    "plot_2d_grid(json_task)\n",
    "correct = False\n",
    "test_correct = False"
   ]
  },
  {
   "cell_type": "markdown",
   "metadata": {},
   "source": [
    "## Give GPT the size and object view as well"
   ]
  },
  {
   "cell_type": "code",
   "execution_count": 200,
   "metadata": {},
   "outputs": [],
   "source": [
    "for each in json_task['train']:\n",
    "    # convert to string representation\n",
    "    for field in ['input', 'output', 'code_output']:\n",
    "        if field in each: each[field] = array_to_string(each[field])\n",
    "    each['input_grid_size'] = get_size(each['input'])\n",
    "    each['input_objects'] = get_objects(each['input'])\n",
    "    each['output_grid_size'] = get_size(each['output'])\n",
    "    each['output_objects'] = get_objects(each['output'])\n",
    "for each in json_task['test']:\n",
    "    # convert to string representation\n",
    "    for field in ['input', 'output', 'code_output']:\n",
    "        if field in each: each[field] = array_to_string(each[field])\n",
    "    each['input_grid_size'] = get_size(each['input'])\n",
    "    each['input_objects'] = get_objects(each['input'])\n",
    "    each['output_grid_size'] = get_size(each['output'])\n",
    "    each['output_objects'] = get_objects(each['output'])"
   ]
  },
  {
   "cell_type": "markdown",
   "metadata": {
    "tags": []
   },
   "source": [
    "## Original code to just use GPT-language without code"
   ]
  },
  {
   "cell_type": "code",
   "execution_count": 201,
   "metadata": {
    "tags": []
   },
   "outputs": [],
   "source": [
    "# preamble = '''You are given a series of inputs and output pairs. \n",
    "# These are all in the form of a 2D array, representing a 2D grid, with values from 0-9. \n",
    "# The values are not representative of any ordinal ranking. Do not sum them or modulo them.\n",
    "# Input/output pairs may not reflect all possibilities, you are to infer the simplest possible relation making use of symmetry and invariance as much as possible.\n",
    "\n",
    "# The input can be something like:\n",
    "# > entire grid being the sandbox to manipulate\n",
    "# > using a part of the grid (individual squares or portions of the grid) to depict instructions of how to do the task. Position and symmetry is very important.\n",
    "# > using regions of similar value to depict area for answer of the task\n",
    "\n",
    "# The output can be something like:\n",
    "# > same output size as input after performing action\n",
    "# > output one of the fixed predetermined patterns used to classify the input image\n",
    "# > using output to show the ordering of objects, such as by size, height, width, position, value\n",
    "\n",
    "# Each of the input-output relation can be done with one or more actions chained together, which could be something like (not exhaustive):\n",
    "# - picture view \n",
    "# \"Use Condition: When there are a lot more variety in output pixels than the input\"\n",
    "# > create lines based on certain object positions\n",
    "# > make common shapes\n",
    "# > rotation / reflection symmetry\n",
    "# > fill up the occluded part\n",
    "\n",
    "# - object view (an object is defined as continuous squares connected horizontally, vertically and/or diagonally, separated by 0 values)\n",
    "# \"Use Condition: When input and output have similar object types\"\n",
    "# > objects can be the of the same value, or different values combined together\n",
    "# > objects may be hidden beneath other objects\n",
    "# > rotating or shifting objects\n",
    "# > changing value of object\n",
    "# > objects can be manipulated and mapped to a different number of output squares\n",
    "# > different objects may be manipulated differently based on context\n",
    "\n",
    "# - physics view\n",
    "# \"Use condition: When the output contains more pixels than the input, and the pixels are more connected\"\n",
    "# > continue what a trajectory would look like\n",
    "# > apply gravity on certain pixels\n",
    "# > follow the path of a light beam\n",
    "\n",
    "# - section view\n",
    "# \"Use condition: When input grid can be split into multiple sections to overlay into the output grid\"\n",
    "# > combine two or more sections of the input into one single one based on a simple rule\n",
    "# > rule can be overlay of top section over bottom, or a logical operator such as AND, OR, XOR'''\n",
    "\n",
    "# postamble = '''Do not provide explanations. Output only the following in .json format:\n",
    "# \"overall_pattern\": {describe the simplest input-output relationship for all input-output pairs},\n",
    "# \"test_input\": {input grid for test set},\n",
    "# \"test_output\": {Use overall_pattern to transform test_input}}\n",
    "# '''\n",
    "\n",
    "# # ensure only one test output\n",
    "# json_task['test'] = json_task['test'][0]\n",
    "# json_task['test']['output'] = 'to_be_filled'\n",
    "\n",
    "# print(preamble + '\\n\\n' + str(json_task) + '\\n\\n' + postamble)"
   ]
  },
  {
   "cell_type": "code",
   "execution_count": 202,
   "metadata": {},
   "outputs": [],
   "source": [
    "def generate_postamble(task = None, reflection = 'reflect on your answer'):\n",
    "    return f'''{task}\n",
    "Do not provide explanations. \n",
    "Output only the following in .json format:\n",
    "\"reflection\": {reflection},\n",
    "\"description_pixel\": describe the grid in terms of pixels for input-output pairs, highlighting possible operations (e.g. rotation, reflection) on the entire grid or subsections of the grid\n",
    "\"description_object\": describe the grid in terms of objects for input-output pairs, highlighting the similarities and differences,\n",
    "\"description_mapping\": describe the mapping of input to output in terms of grid sections\n",
    "\"overall_pattern\": describe the simplest input-output relationship for all input-output pairs,\n",
    "\"program_instructions\": specific instructions to encode overall_pattern into a python function,\n",
    "\"python_program\": python function named 'transform_grid' that takes in a list of strings (2D grid representation) and generates a list of strings (2D grid representation). You may use helper functions. Output as a string in a single line with \\\\n and \\\\t.\n",
    "'''"
   ]
  },
  {
   "cell_type": "code",
   "execution_count": 203,
   "metadata": {},
   "outputs": [
    {
     "name": "stdout",
     "output_type": "stream",
     "text": [
      "You are given a series of inputs and output pairs. \n",
      "These are all in the form of list of strings, representing a 2D grid, with values from 'a' to 'i' representing different colors. '.' is a blank cell.\n",
      "For example, ['.a.','..b'] represents a 2 row x 3 col grid with color 'a' at position (0,1) and color 'b' at position (1,2).\n",
      "Positions are in 2D coordinates (x, y), x representing row number, y representing col number, with zero-indexing.\n",
      "Input/output pairs may not reflect all possibilities, you are to infer the simplest possible relation.\n",
      "\n",
      "Each of the input-output relation can be done with one or more helper functions chained together. \n",
      "Some relations require other functions, which you will need to come up with yourself.\n",
      "\n",
      "Helper functions:\n",
      "Format\n",
      "{function_name}: {Function description}\n",
      "I {Example input}\n",
      "O {Example output}\n",
      "\n",
      "- get_objects(grid, diag=False, empty=False): Takes in grid, diag (can be set to True if we want diagonals to be considered as same object) and empty (set to True if we want empty cells to form objects too)\n",
      "returns object dictionary comprising top-left coordinate of object ('tl'), bottom-right coordinate of object ('br'), \n",
      "shape of object in list of strings format ('shape'), value of object ('value'), number of cells occupied by object ('num')]\n",
      "I ['.aaa', '..ba']\n",
      "O [{'tl': (0, 1), 'br': (1, 3), 'shape': ['xxx', '..x'], 'value': 'a', 'num': 4}, \n",
      "{'tl': (1, 2), 'br': (1, 2), 'shape': ['x'], 'value': 'b', 'num': 1}]\n",
      "- shape_to_coords(shape, top_left): Takes in object shape and top-left anchor, outputs list of coords object occupies\n",
      "I ['..x','xxx'], (3, 3)\n",
      "O [(3, 5), (4, 3), (4, 4), (4, 5)]\n",
      "- fill_object(grid, obj_dict): returns grid filled with the given object\n",
      "I ['....','....'], {'tl': (0, 1),'br': (1, 3), shape': ['xxx', '..x'],'value': 'a','num': 4})\n",
      "O ['.aaa', '...a']\n",
      "- empty_grid(row, col): Returns an empty grid of '.' of size row and col\n",
      "I 3, 2\n",
      "O [['..'], ['..'], ['..']]\n",
      "- crop_section(grid, tl, br): returns a subset of the grid from top-left to bottom-right coordinate\n",
      "I [['aab','.ab']], (0, 0), (1, 1)\n",
      "O [['aa','.a']]\n",
      "- fill_section(grid, tl, br, value): fills up grid section from top-left to bottom-right coordinate, with value\n",
      "I ['...', '...'], (0, 0), (1, 1), 'a'\n",
      "O [['aa.', 'aa.']]\n",
      "- fill_line_between_coords(grid, coord1, coord2, value): fills up a line from coord1 to coord2 with value\n",
      "I['...','...'], (0, 0), (1, 1), 'a'\n",
      "O ['a..', '.a.']\n",
      "- get_coords(grid, value): Returns list of coords of pixels of a certain value in grid \n",
      "I ['.a.', '..a'], 'a'\n",
      "O [(0, 1), (1, 2)]\n",
      "- get_counts(grid, empty=False): Returns a sorted list in descending order of the counts of various values within the grid.\n",
      "You can choose if you would like to count the emtpy squares as a colour, if so, put empty=True.\n",
      "You can take the first item for most common color, and last item for least common color, and length for number of unique colors.\n",
      "I ['..b','b.a']\n",
      "O [('b', 2), ('a', 1)]\n",
      "- rotate_clockwise(grid, degree=90): rotates grid clockwise by a degree of 90, 180, 270 degrees. grid can also be object dictionary.\n",
      "I ['abc','def'], 90\n",
      "O ['da', 'eb', 'fc']\n",
      "I ['abc','def', 'ghi'], 180\n",
      "O ['ihg', 'fed', 'cba']\n",
      "O ['fed', 'cba']\n",
      "I ['abc','def'], 270\n",
      "O ['cf', 'be', 'ad']\n",
      "- horizontal_flip(grid): does a horizontal flip of the grid. grid can also be object dictionary.\n",
      "I ['abc','def']\n",
      "O ['cba', 'fed']\n",
      "- vertical_flip(grid): does a vertical flip of the grid. grid can also be object dictionary.\n",
      "I ['abc','def']\n",
      "O ['def', 'abc']\n",
      "\n",
      "Each helper function can be conditional. The conditions can be:\n",
      "- by attribute, such as cell_num, shape, color, size of object, maximum, minimum\n",
      "- the condition can be an attribute on all objects, for instance, objects with the most common colour, or objects with the most common shape\n",
      "- by position, such as if neighbouring cell is of a certain type or shape\n",
      "\n",
      "Conditions (non-exhaustive):\n",
      "- on_same_line(coord1, coord2, line_type): Returns True/False if coord1 is on the same line as coord2. line_type can be one of ['row', 'col', 'diag']\n",
      "(1, 1), (2, 2), 'diag'\n",
      "@ True\n",
      "\n",
      "The overall relation should be encoded as such:\n",
      "if {condition}: {helper function}\n",
      "\n",
      "\n",
      "[{'input': ['cch','cg.','e..'],'output': ['..e','.gc','hcc'],'input_grid_size': (3,3),'input_objects': [{'tl': (0,0),'br': (1,1),'shape': ['xx','x.'],'value': 'c','num': 3},{'tl': (0,2),'br': (0,2),'shape': ['x'],'value': 'h','num': 1},{'tl': (1,1),'br': (1,1),'shape': ['x'],'value': 'g','num': 1},{'tl': (2,0),'br': (2,0),'shape': ['x'],'value': 'e','num': 1}],'output_grid_size': (3,3),'output_objects': [{'tl': (0,2),'br': (0,2),'shape': ['x'],'value': 'e','num': 1},{'tl': (1,1),'br': (1,1),'shape': ['x'],'value': 'g','num': 1},{'tl': (1,1),'br': (2,2),'shape': ['.x','xx'],'value': 'c','num': 3},{'tl': (2,0),'br': (2,0),'shape': ['x'],'value': 'h','num': 1}]},{'input': ['eeb','a..','...'],'output': ['...','..a','bee'],'input_grid_size': (3,3),'input_objects': [{'tl': (0,0),'br': (0,1),'shape': ['xx'],'value': 'e','num': 2},{'tl': (0,2),'br': (0,2),'shape': ['x'],'value': 'b','num': 1},{'tl': (1,0),'br': (1,0),'shape': ['x'],'value': 'a','num': 1}],'output_grid_size': (3,3),'output_objects': [{'tl': (1,2),'br': (1,2),'shape': ['x'],'value': 'a','num': 1},{'tl': (2,0),'br': (2,0),'shape': ['x'],'value': 'b','num': 1},{'tl': (2,1),'br': (2,2),'shape': ['xx'],'value': 'e','num': 2}]}]\n",
      "\n",
      "\n",
      "Do not provide explanations. \n",
      "Output only the following in .json format:\n",
      "\"reflection\": reflect on the changes in grid size, pixel movements, object number, object size for all input-output pairs,\n",
      "\"description_pixel\": describe the grid in terms of pixels for input-output pairs, highlighting possible operations (e.g. rotation, reflection) on the entire grid or subsections of the grid\n",
      "\"description_object\": describe the grid in terms of objects for input-output pairs, highlighting the similarities and differences,\n",
      "\"description_mapping\": describe the mapping of input to output in terms of grid sections\n",
      "\"overall_pattern\": describe the simplest input-output relationship for all input-output pairs,\n",
      "\"program_instructions\": specific instructions to encode overall_pattern into a python function,\n",
      "\"python_program\": python function named 'transform_grid' that takes in a list of strings (2D grid representation) and generates a list of strings (2D grid representation). You may use helper functions. Output as a string in a single line with \\n and \\t.\n",
      "\n"
     ]
    }
   ],
   "source": [
    "preamble = '''You are given a series of inputs and output pairs. \n",
    "These are all in the form of list of strings, representing a 2D grid, with values from 'a' to 'i' representing different colors. '.' is a blank cell.\n",
    "For example, ['.a.','..b'] represents a 2 row x 3 col grid with color 'a' at position (0,1) and color 'b' at position (1,2).\n",
    "Positions are in 2D coordinates (x, y), x representing row number, y representing col number, with zero-indexing.\n",
    "Input/output pairs may not reflect all possibilities, you are to infer the simplest possible relation.\n",
    "\n",
    "Each of the input-output relation can be done with one or more helper functions chained together. \n",
    "Some relations require other functions, which you will need to come up with yourself.\n",
    "\n",
    "Helper functions:\n",
    "Format\n",
    "{function_name}: {Function description}\n",
    "I {Example input}\n",
    "O {Example output}\n",
    "\n",
    "- get_objects(grid, diag=False, empty=False): Takes in grid, diag (can be set to True if we want diagonals to be considered as same object) and empty (set to True if we want empty cells to form objects too)\n",
    "returns object dictionary comprising top-left coordinate of object ('tl'), bottom-right coordinate of object ('br'), \n",
    "shape of object in list of strings format ('shape'), value of object ('value'), number of cells occupied by object ('num')]\n",
    "I ['.aaa', '..ba']\n",
    "O [{'tl': (0, 1), 'br': (1, 3), 'shape': ['xxx', '..x'], 'value': 'a', 'num': 4}, \n",
    "{'tl': (1, 2), 'br': (1, 2), 'shape': ['x'], 'value': 'b', 'num': 1}]\n",
    "- shape_to_coords(shape, top_left): Takes in object shape and top-left anchor, outputs list of coords object occupies\n",
    "I ['..x','xxx'], (3, 3)\n",
    "O [(3, 5), (4, 3), (4, 4), (4, 5)]\n",
    "- fill_object(grid, obj_dict): returns grid filled with the given object\n",
    "I ['....','....'], {'tl': (0, 1),'br': (1, 3), shape': ['xxx', '..x'],'value': 'a','num': 4})\n",
    "O ['.aaa', '...a']\n",
    "- empty_grid(row, col): Returns an empty grid of '.' of size row and col\n",
    "I 3, 2\n",
    "O [['..'], ['..'], ['..']]\n",
    "- crop_section(grid, tl, br): returns a subset of the grid from top-left to bottom-right coordinate\n",
    "I [['aab','.ab']], (0, 0), (1, 1)\n",
    "O [['aa','.a']]\n",
    "- fill_section(grid, tl, br, value): fills up grid section from top-left to bottom-right coordinate, with value\n",
    "I ['...', '...'], (0, 0), (1, 1), 'a'\n",
    "O [['aa.', 'aa.']]\n",
    "- fill_line_between_coords(grid, coord1, coord2, value): fills up a line from coord1 to coord2 with value\n",
    "I['...','...'], (0, 0), (1, 1), 'a'\n",
    "O ['a..', '.a.']\n",
    "- get_coords(grid, value): Returns list of coords of pixels of a certain value in grid \n",
    "I ['.a.', '..a'], 'a'\n",
    "O [(0, 1), (1, 2)]\n",
    "- get_counts(grid, empty=False): Returns a sorted list in descending order of the counts of various values within the grid.\n",
    "You can choose if you would like to count the emtpy squares as a colour, if so, put empty=True.\n",
    "You can take the first item for most common color, and last item for least common color, and length for number of unique colors.\n",
    "I ['..b','b.a']\n",
    "O [('b', 2), ('a', 1)]\n",
    "- rotate_clockwise(grid, degree=90): rotates grid clockwise by a degree of 90, 180, 270 degrees. grid can also be object dictionary.\n",
    "I ['abc','def'], 90\n",
    "O ['da', 'eb', 'fc']\n",
    "I ['abc','def', 'ghi'], 180\n",
    "O ['ihg', 'fed', 'cba']\n",
    "O ['fed', 'cba']\n",
    "I ['abc','def'], 270\n",
    "O ['cf', 'be', 'ad']\n",
    "- horizontal_flip(grid): does a horizontal flip of the grid. grid can also be object dictionary.\n",
    "I ['abc','def']\n",
    "O ['cba', 'fed']\n",
    "- vertical_flip(grid): does a vertical flip of the grid. grid can also be object dictionary.\n",
    "I ['abc','def']\n",
    "O ['def', 'abc']\n",
    "\n",
    "Each helper function can be conditional. The conditions can be:\n",
    "- by attribute, such as cell_num, shape, color, size of object, maximum, minimum\n",
    "- the condition can be an attribute on all objects, for instance, objects with the most common colour, or objects with the most common shape\n",
    "- by position, such as if neighbouring cell is of a certain type or shape\n",
    "\n",
    "Conditions (non-exhaustive):\n",
    "- on_same_line(coord1, coord2, line_type): Returns True/False if coord1 is on the same line as coord2. line_type can be one of ['row', 'col', 'diag']\n",
    "(1, 1), (2, 2), 'diag'\n",
    "@ True\n",
    "\n",
    "The overall relation should be encoded as such:\n",
    "if {condition}: {helper function}\n",
    "'''\n",
    "\n",
    "postamble = generate_postamble(task = '', \n",
    "                                reflection = 'reflect on the changes in grid size, pixel movements, object number, object size for all input-output pairs')\n",
    "\n",
    "# ensure only one test output\n",
    "# json_task['test'] = json_task['test'][0]\n",
    "# json_task['test']['output'] = 'to_be_filled'\n",
    "new_json_task = copy.deepcopy(json_task['train'])\n",
    "# for each in new_json_task:\n",
    "    # if 'input' in each: del each['input']\n",
    "    # if 'output' in each: del each['output']\n",
    "    # if 'code_output' in each: del each['code_output']\n",
    "    # do manipulation of input grid\n",
    "\n",
    "print(preamble + '\\n\\n' + str(new_json_task).replace(', ',',') + '\\n\\n' + postamble)"
   ]
  },
  {
   "cell_type": "markdown",
   "metadata": {},
   "source": [
    "## Get the Python Code from GPT"
   ]
  },
  {
   "cell_type": "code",
   "execution_count": 219,
   "metadata": {},
   "outputs": [],
   "source": [
    "output_string =\\\n",
    "{\n",
    "\"reflection\": \"The grid size remains the same for all input-output pairs. The number of objects also remains the same, and their size does not change. It appears that the objects rotate by 180 degrees around the center of the grid. Pixels also seem to rotate, as the relative positions of the pixels of the same color appear to be maintained in the output grids.\",\n",
    "\"description_pixel\": \"The pixels in the grid are rotating by 180 degrees around the center of the grid. For example, a pixel at position (0,0) in the input grid is found at position (2,2) in the output grid. Similarly, a pixel at position (1,0) in the input grid is found at position (1,2) in the output grid, and so on.\",\n",
    "\"description_object\": \"The objects in the grid also appear to rotate by 180 degrees around the center of the grid. For example, an object with a top-left coordinate at (0,0) in the input grid has its top-left coordinate at (2,2) in the output grid. Similarly, an object with a top-left coordinate at (1,0) in the input grid has its top-left coordinate at (1,2) in the output grid, and so on.\",\n",
    "\"description_mapping\": \"The mapping of input to output seems to be a 180 degree rotation of the grid sections. Each cell at position (x,y) in the input grid is mapped to position (n-x,n-y) in the output grid, where n is the number of rows or columns in the grid minus 1.\",\n",
    "\"overall_pattern\": \"The simplest input-output relationship for all input-output pairs is a 180 degree rotation of the grid.\",\n",
    "\"program_instructions\": \"To encode the overall_pattern into a python function, the function should take the input grid, and rotate it by 180 degrees using the rotate_clockwise helper function with degree set to 180.\",\n",
    "\"python_program\": \"def transform_grid(grid):\\n\\treturn rotate_clockwise(grid, degree=180)\"\n",
    "}"
   ]
  },
  {
   "cell_type": "markdown",
   "metadata": {},
   "source": [
    "# See the code"
   ]
  },
  {
   "cell_type": "code",
   "execution_count": 220,
   "metadata": {},
   "outputs": [],
   "source": [
    "overall_pattern = output_string[\"overall_pattern\"]"
   ]
  },
  {
   "cell_type": "code",
   "execution_count": 221,
   "metadata": {},
   "outputs": [
    {
     "name": "stdout",
     "output_type": "stream",
     "text": [
      "def transform_grid(grid):\n",
      "\treturn rotate_clockwise(grid, degree=180)\n"
     ]
    }
   ],
   "source": [
    "print(output_string['python_program'])"
   ]
  },
  {
   "cell_type": "code",
   "execution_count": 222,
   "metadata": {},
   "outputs": [
    {
     "name": "stdout",
     "output_type": "stream",
     "text": [
      "None\n"
     ]
    }
   ],
   "source": [
    "error_msg = ''\n",
    "try:\n",
    "    # test out if function compiles\n",
    "    exec(output_string[\"python_program\"])\n",
    "    # test out if function works with one grid\n",
    "    for each in json_task['train']:\n",
    "        output = transform_grid(copy.deepcopy(each['input']))\n",
    "    for each in json_task['test']:\n",
    "        output = transform_grid(copy.deepcopy(each['input']))\n",
    "    # check if resulting output is a list of strings\n",
    "    assert len(np.array(output).shape) == 1\n",
    "    assert isinstance(output[0], str)\n",
    "    assert isinstance(output[0][0], str)\n",
    "\n",
    "except Exception as e:\n",
    "    exception_traceback = StringIO()\n",
    "    traceback.print_exc(file=exception_traceback)\n",
    "    error_msg = exception_traceback.getvalue()\n",
    "else:\n",
    "    error_msg = 'None'\n",
    "print(error_msg)"
   ]
  },
  {
   "cell_type": "markdown",
   "metadata": {
    "tags": []
   },
   "source": [
    "## Check if code works"
   ]
  },
  {
   "cell_type": "code",
   "execution_count": 223,
   "metadata": {
    "tags": []
   },
   "outputs": [
    {
     "name": "stdout",
     "output_type": "stream",
     "text": [
      "Training cases passed!\n"
     ]
    }
   ],
   "source": [
    "if error_msg == 'None':\n",
    "    correct = True\n",
    "    for each in json_task['train']:\n",
    "        each['code_output'] = transform_grid(copy.deepcopy(each['input']))\n",
    "        if each['code_output'] != each['output']: correct = False\n",
    "        each['code_output_grid_size'] = get_size(each['code_output'])\n",
    "        each['code_output_objects'] = get_objects(each['code_output'])\n",
    "\n",
    "    if correct:\n",
    "        print('Training cases passed!')\n",
    "    else:\n",
    "        print('Incorrect solution')\n",
    "        \n",
    "else:\n",
    "    correct = False\n",
    "    print('Code has runtime errors. Skipping training case')"
   ]
  },
  {
   "cell_type": "markdown",
   "metadata": {},
   "source": [
    "## If training cases passed, then try it on test case"
   ]
  },
  {
   "cell_type": "code",
   "execution_count": 224,
   "metadata": {},
   "outputs": [
    {
     "name": "stdout",
     "output_type": "stream",
     "text": [
      "Test case(s) passed!\n"
     ]
    }
   ],
   "source": [
    "if correct:\n",
    "    test_correct = True\n",
    "    for each in json_task['test']:\n",
    "        each['code_output'] = transform_grid(copy.deepcopy(each['input']))\n",
    "        if each['code_output'] != each['output']: test_correct = False\n",
    "        each['code_output_grid_size'] = get_size(each['code_output'])\n",
    "        each['code_output_objects'] = get_objects(each['code_output'])\n",
    "        \n",
    "    if test_correct:\n",
    "        print('Test case(s) passed!')\n",
    "    else:\n",
    "        print('Incorrect solution')\n",
    "else:\n",
    "    print('Skipping test case')"
   ]
  },
  {
   "cell_type": "markdown",
   "metadata": {},
   "source": [
    "## If training cases failed, then try ask GPT-4 to generate solution again"
   ]
  },
  {
   "cell_type": "code",
   "execution_count": 225,
   "metadata": {},
   "outputs": [
    {
     "data": {
      "image/png": "[encoded data removed]",
      "text/plain": [
       "<Figure size 500x210 with 3 Axes>"
      ]
     },
     "metadata": {},
     "output_type": "display_data"
    },
    {
     "data": {
      "image/png": "[encoded data removed]",
      "text/plain": [
       "<Figure size 500x420 with 6 Axes>"
      ]
     },
     "metadata": {},
     "output_type": "display_data"
    }
   ],
   "source": [
    "new_json_task = copy.deepcopy(json_task['train'])\n",
    "# for each in new_json_task:\n",
    "#     if 'input' in each: del each['input']\n",
    "#     if 'output' in each: del each['output']\n",
    "#     if 'code_output' in each: del each['code_output']\n",
    "    \n",
    "if error_msg != 'None':\n",
    "    postamble = generate_postamble(task = f'Previous overall pattern: {overall_pattern}.\\n\\nYour code had compilation errors. Correct it.', reflection = 'reflect on why code did not run')\n",
    "    \n",
    "    code_string = output_string['python_program']\n",
    "    print(preamble + '\\n\\n' + str(new_json_task).replace(', ',',') + '\\n\\n' + 'Your code to get output from input:\\n'+code_string + '\\n\\n' 'Error Message:\\n' + error_msg + '\\n\\n' + postamble)\n",
    "    input_to_gpt4 = preamble + '\\n\\n' + str(new_json_task).replace(', ',',') + '\\n\\n' + 'Code to get output from input:\\n'+code_string + '\\n\\n' 'Error Message:\\n' + error_msg + '\\n\\n' + postamble\n",
    "    \n",
    "elif not correct:\n",
    "    postamble = generate_postamble(task = f'''Previous overall pattern: {overall_pattern}\\n\\nYour code did not generate the correct output. \n",
    "'output' denotes the correct response to 'input', 'code_output' denotes the output from your generated code.\n",
    "If 'code_output' is very close to 'output', you can treat 'code_output' as 'input' and extend your earlier code with the additional operations needed to transform it to 'output' ''',\n",
    "    reflection = 'reflect on why code is incorrect, focusing on differences between output and code_output, focusing on grid size, object number, object size for all input-output pair')\n",
    "\n",
    "    code_string = output_string['python_program']\n",
    "    print(preamble + '\\n\\n' + str(new_json_task).replace(', ',',') + '\\n\\n' + 'Your code to get output from input:\\n'+code_string + '\\n\\n' 'Error Message:\\n' + error_msg + '\\n\\n' + postamble)\n",
    "    input_to_gpt4 = preamble + '\\n\\n' + str(new_json_task).replace(', ',',') + '\\n\\n' + 'Code to get output from input:\\n'+code_string + '\\n\\n' 'Error Message:\\n' + error_msg + '\\n\\n' + postamble\n",
    "\n",
    "plot_2d_grid(json_task)"
   ]
  },
  {
   "cell_type": "markdown",
   "metadata": {},
   "source": [
    "## When solved, or give up, come here to display the final output of GPT"
   ]
  },
  {
   "cell_type": "code",
   "execution_count": 226,
   "metadata": {},
   "outputs": [
    {
     "name": "stdout",
     "output_type": "stream",
     "text": [
      "ARC Training Set index 59\n",
      "6150a2bd.json\n",
      "\n",
      "Training Set Status: True\n",
      "Test Set Passed: True\n",
      "\n",
      "Final GPT output string after 4 tries:\n",
      "{'reflection': 'The grid size remains the same for all input-output pairs. The number of objects also remains the same, and their size does not change. It appears that the objects rotate by 180 degrees around the center of the grid. Pixels also seem to rotate, as the relative positions of the pixels of the same color appear to be maintained in the output grids.', 'description_pixel': 'The pixels in the grid are rotating by 180 degrees around the center of the grid. For example, a pixel at position (0,0) in the input grid is found at position (2,2) in the output grid. Similarly, a pixel at position (1,0) in the input grid is found at position (1,2) in the output grid, and so on.', 'description_object': 'The objects in the grid also appear to rotate by 180 degrees around the center of the grid. For example, an object with a top-left coordinate at (0,0) in the input grid has its top-left coordinate at (2,2) in the output grid. Similarly, an object with a top-left coordinate at (1,0) in the input grid has its top-left coordinate at (1,2) in the output grid, and so on.', 'description_mapping': 'The mapping of input to output seems to be a 180 degree rotation of the grid sections. Each cell at position (x,y) in the input grid is mapped to position (n-x,n-y) in the output grid, where n is the number of rows or columns in the grid minus 1.', 'overall_pattern': 'The simplest input-output relationship for all input-output pairs is a 180 degree rotation of the grid.', 'program_instructions': 'To encode the overall_pattern into a python function, the function should take the input grid, and rotate it by 180 degrees using the rotate_clockwise helper function with degree set to 180.', 'python_program': 'def transform_grid(grid):\\n\\treturn rotate_clockwise(grid, degree=180)'}\n"
     ]
    },
    {
     "data": {
      "image/png": "[encoded data removed]",
      "text/plain": [
       "<Figure size 500x210 with 3 Axes>"
      ]
     },
     "metadata": {},
     "output_type": "display_data"
    },
    {
     "data": {
      "image/png": "[encoded data removed]",
      "text/plain": [
       "<Figure size 500x420 with 6 Axes>"
      ]
     },
     "metadata": {},
     "output_type": "display_data"
    }
   ],
   "source": [
    "print('ARC Training Set index', index)\n",
    "print(file_names[index])\n",
    "print()\n",
    "print('Training Set Status:', correct)\n",
    "print('Test Set Passed:', test_correct)\n",
    "print()\n",
    "print('Final GPT output string after 4 tries:', output_string, sep = '\\n')\n",
    "\n",
    "plot_2d_grid(json_task)"
   ]
  },
  {
   "cell_type": "code",
   "execution_count": null,
   "metadata": {},
   "outputs": [],
   "source": []
  },
  {
   "cell_type": "code",
   "execution_count": null,
   "metadata": {},
   "outputs": [],
   "source": []
  },
  {
   "cell_type": "code",
   "execution_count": null,
   "metadata": {},
   "outputs": [],
   "source": []
  }
 ],
 "metadata": {
  "colab": {
   "provenance": []
  },
  "kernelspec": {
   "display_name": "Python 3 (ipykernel)",
   "language": "python",
   "name": "python3"
  },
  "language_info": {
   "codemirror_mode": {
    "name": "ipython",
    "version": 3
   },
   "file_extension": ".py",
   "mimetype": "text/x-python",
   "name": "python",
   "nbconvert_exporter": "python",
   "pygments_lexer": "ipython3",
   "version": "3.9.13"
  }
 },
 "nbformat": 4,
 "nbformat_minor": 4
}
